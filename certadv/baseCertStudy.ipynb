{
 "cells": [
  {
   "cell_type": "markdown",
   "metadata": {},
   "source": [
    "# CHAPTER 2: BASIC CONCEPT\n",
    "\n",
    "## Sas statement\n",
    "- Free-format, case-insensitive\n",
    "- 2 types\n",
    "    - statments in DATA and PROC steps\n",
    "    - Global statment: used anywhere in SAS program, stay in effect until changed or canceled or session end. Eg: TITLE, LIBNAME, OPTIONS, FOOTNOTE\n",
    "- RUN; is not required but recomended\n",
    "\n",
    "## SAS library\n",
    "- referenced as unit\n",
    "- catalog: is subfolder in lib\n",
    "- Predefine: SASHELP (read-only), SASUSER, WORK (temporary), (Webwork lib for interactive output)\n",
    "- Define: `LIBNAME mylib 'link'`\n",
    "## SAS name\n",
    "- begin with letter or underscore\n",
    "- max length 32\n",
    "- lib name max length 8\n"
   ]
  }
 ],
 "metadata": {
  "kernelspec": {
   "display_name": "SAS",
   "language": "sas",
   "name": "sas"
  },
  "language_info": {
   "codemirror_mode": "sas",
   "file_extension": ".sas",
   "mimetype": "text/x-sas",
   "name": "sas"
  }
 },
 "nbformat": 4,
 "nbformat_minor": 2
}
